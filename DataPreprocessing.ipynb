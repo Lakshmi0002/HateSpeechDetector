{
 "cells": [
  {
   "cell_type": "markdown",
   "id": "e24b7cf4-02e9-4e7c-8a4e-07d3bc11af41",
   "metadata": {},
   "source": [
    "#### Problem Statement:\n",
    "\"Towards Safer Social Platforms: A Machine Learning and NLP Approach to Cyberbullying \n",
    "Detection\""
   ]
  },
  {
   "cell_type": "markdown",
   "id": "ae2f2703-ae16-47e5-99b8-dba268e98a3a",
   "metadata": {},
   "source": [
    "#### Abstract:\n",
    "In the today’s digital era everyone is eager to express their thoughts, emotions and \n",
    "on-going happenings in life to the outer world on various social media platforms. \n",
    "Social media is a vulnerable platform which is exposed to possible weakness and \n",
    "threats. Cyberbullying is the serious problem that can harm the mental and physical \n",
    "well-being of people who are using social media on daily basis to share their \n",
    "thoughts.\n",
    "In contrast to traditional bullying, cyberbullying can happen at any moment, making \n",
    "it challenging for victims to avoid its consequences. Studies show that those who are \n",
    "the targets of cyberbullying may experience suicidal thoughts as well as feelings of \n",
    "depression, anxiety, and loneliness. Constant exposure to negative comments and \n",
    "cyberbullying erodes a person's confidence and self-worth, making them question \n",
    "their worth and ability. In addition, Long-term emotional scars result from victims \n",
    "who lose trust and avoid social connections in person as well as virtually"
   ]
  },
  {
   "cell_type": "code",
   "execution_count": 1,
   "id": "50e2d28c-a25b-487c-8713-866f5681a7e8",
   "metadata": {},
   "outputs": [],
   "source": [
    "# load the libraries\n",
    "import numpy as np\n",
    "import pandas as pd\n",
    "\n",
    "import matplotlib.pyplot as pls\n",
    "import seaborn as sns\n",
    "\n",
    "import warnings\n",
    "warnings.filterwarnings('ignore')"
   ]
  },
  {
   "cell_type": "code",
   "execution_count": 3,
   "id": "d4c3470e-653c-45be-988f-15365e50ce79",
   "metadata": {},
   "outputs": [],
   "source": [
    "data = pd.read_csv('output1.csv')"
   ]
  },
  {
   "cell_type": "code",
   "execution_count": 5,
   "id": "bb83656e-75b5-4c86-b64a-5f30e10af9a4",
   "metadata": {},
   "outputs": [
    {
     "data": {
      "text/html": [
       "<div>\n",
       "<style scoped>\n",
       "    .dataframe tbody tr th:only-of-type {\n",
       "        vertical-align: middle;\n",
       "    }\n",
       "\n",
       "    .dataframe tbody tr th {\n",
       "        vertical-align: top;\n",
       "    }\n",
       "\n",
       "    .dataframe thead th {\n",
       "        text-align: right;\n",
       "    }\n",
       "</style>\n",
       "<table border=\"1\" class=\"dataframe\">\n",
       "  <thead>\n",
       "    <tr style=\"text-align: right;\">\n",
       "      <th></th>\n",
       "      <th>content</th>\n",
       "      <th>annotation_label</th>\n",
       "    </tr>\n",
       "  </thead>\n",
       "  <tbody>\n",
       "    <tr>\n",
       "      <th>0</th>\n",
       "      <td>Get fucking real dude.</td>\n",
       "      <td>1</td>\n",
       "    </tr>\n",
       "    <tr>\n",
       "      <th>1</th>\n",
       "      <td>She is as dirty as they come  and that crook ...</td>\n",
       "      <td>1</td>\n",
       "    </tr>\n",
       "    <tr>\n",
       "      <th>2</th>\n",
       "      <td>why did you fuck it up. I could do it all day...</td>\n",
       "      <td>1</td>\n",
       "    </tr>\n",
       "    <tr>\n",
       "      <th>3</th>\n",
       "      <td>Dude they dont finish enclosing the fucking s...</td>\n",
       "      <td>1</td>\n",
       "    </tr>\n",
       "    <tr>\n",
       "      <th>4</th>\n",
       "      <td>WTF are you talking about Men? No men thats n...</td>\n",
       "      <td>1</td>\n",
       "    </tr>\n",
       "    <tr>\n",
       "      <th>...</th>\n",
       "      <td>...</td>\n",
       "      <td>...</td>\n",
       "    </tr>\n",
       "    <tr>\n",
       "      <th>19996</th>\n",
       "      <td>I dont. But what is complaining about it goi...</td>\n",
       "      <td>0</td>\n",
       "    </tr>\n",
       "    <tr>\n",
       "      <th>19997</th>\n",
       "      <td>Bahah  yeah i&amp;;m totally just gonna&amp;; get pis...</td>\n",
       "      <td>0</td>\n",
       "    </tr>\n",
       "    <tr>\n",
       "      <th>19998</th>\n",
       "      <td>hahahahaha &gt;:) im evil mwahahahahahahahahaha</td>\n",
       "      <td>0</td>\n",
       "    </tr>\n",
       "    <tr>\n",
       "      <th>19999</th>\n",
       "      <td>What&amp;;s something unique about Ohio? :)</td>\n",
       "      <td>0</td>\n",
       "    </tr>\n",
       "    <tr>\n",
       "      <th>20000</th>\n",
       "      <td>Who is the biggest gossiper you know?</td>\n",
       "      <td>0</td>\n",
       "    </tr>\n",
       "  </tbody>\n",
       "</table>\n",
       "<p>20001 rows × 2 columns</p>\n",
       "</div>"
      ],
      "text/plain": [
       "                                                 content  annotation_label\n",
       "0                                 Get fucking real dude.                 1\n",
       "1       She is as dirty as they come  and that crook ...                 1\n",
       "2       why did you fuck it up. I could do it all day...                 1\n",
       "3       Dude they dont finish enclosing the fucking s...                 1\n",
       "4       WTF are you talking about Men? No men thats n...                 1\n",
       "...                                                  ...               ...\n",
       "19996    I dont. But what is complaining about it goi...                 0\n",
       "19997   Bahah  yeah i&;m totally just gonna&; get pis...                 0\n",
       "19998       hahahahaha >:) im evil mwahahahahahahahahaha                 0\n",
       "19999            What&;s something unique about Ohio? :)                 0\n",
       "20000              Who is the biggest gossiper you know?                 0\n",
       "\n",
       "[20001 rows x 2 columns]"
      ]
     },
     "execution_count": 5,
     "metadata": {},
     "output_type": "execute_result"
    }
   ],
   "source": [
    "data"
   ]
  },
  {
   "cell_type": "markdown",
   "id": "571cabad-f2c5-41be-9493-8e74454b7e09",
   "metadata": {},
   "source": [
    "##### Understanding the data\n",
    "- content: Text data, containing various statements\n",
    "- annotation_label: Integer labels associated with the content\n",
    "- 0 Non bullying text\n",
    "- 1 Bullying text"
   ]
  },
  {
   "cell_type": "markdown",
   "id": "4c8b4c46-29b2-45dc-b299-4def7c7c42b2",
   "metadata": {},
   "source": [
    "##### Understanding the data through the basic analysis"
   ]
  },
  {
   "cell_type": "code",
   "execution_count": 10,
   "id": "4e535592-0682-48dd-b0e6-50568c68c01b",
   "metadata": {},
   "outputs": [
    {
     "data": {
      "text/plain": [
       "(20001, 2)"
      ]
     },
     "execution_count": 10,
     "metadata": {},
     "output_type": "execute_result"
    }
   ],
   "source": [
    "data.shape"
   ]
  },
  {
   "cell_type": "markdown",
   "id": "1bfead05-c6b6-4740-b066-9cb9f4faadc4",
   "metadata": {},
   "source": [
    "- The dataset contains 20,001 entries with two columns"
   ]
  },
  {
   "cell_type": "markdown",
   "id": "ad25eb47-3139-43c1-85b4-d86944e93ff8",
   "metadata": {},
   "source": [
    "##### Renaming  annotation_label  to target"
   ]
  },
  {
   "cell_type": "code",
   "execution_count": 30,
   "id": "d687c0b1-cb3e-42ea-b1e7-ca3c7bed8824",
   "metadata": {},
   "outputs": [],
   "source": [
    "data.rename(columns={'annotation_label':'target'},inplace=True)"
   ]
  },
  {
   "cell_type": "code",
   "execution_count": 32,
   "id": "ebda61df-ce49-42b4-89f0-700f04107aac",
   "metadata": {},
   "outputs": [
    {
     "name": "stdout",
     "output_type": "stream",
     "text": [
      "<class 'pandas.core.frame.DataFrame'>\n",
      "RangeIndex: 20001 entries, 0 to 20000\n",
      "Data columns (total 2 columns):\n",
      " #   Column   Non-Null Count  Dtype \n",
      "---  ------   --------------  ----- \n",
      " 0   content  20001 non-null  object\n",
      " 1   target   20001 non-null  int64 \n",
      "dtypes: int64(1), object(1)\n",
      "memory usage: 312.6+ KB\n"
     ]
    }
   ],
   "source": [
    "data.info()"
   ]
  },
  {
   "cell_type": "markdown",
   "id": "bc1b485d-6013-4e13-8268-40402fb4b1d1",
   "metadata": {},
   "source": [
    "- The data has no null values.\n",
    "- There is a object data which needs a vectorization i.e the embedding concept to convert into its numerical format.\n",
    "- The DataFrame has a memory usage of approximately 312.6 KB."
   ]
  },
  {
   "cell_type": "markdown",
   "id": "91f7203e-e56b-4f13-a665-d8c27b036b15",
   "metadata": {},
   "source": [
    "###### Checking for data balancing , since the target is intended for classification"
   ]
  },
  {
   "cell_type": "code",
   "execution_count": 35,
   "id": "a3803989-5231-46c7-9965-eb030ab8be0c",
   "metadata": {},
   "outputs": [
    {
     "data": {
      "text/plain": [
       "target\n",
       "0    12179\n",
       "1     7822\n",
       "Name: count, dtype: int64"
      ]
     },
     "execution_count": 35,
     "metadata": {},
     "output_type": "execute_result"
    }
   ],
   "source": [
    "data['target'].value_counts()"
   ]
  },
  {
   "cell_type": "markdown",
   "id": "477ea8fc-a159-473e-b8cf-d7730d74b1f1",
   "metadata": {},
   "source": [
    "##### DataCleaning "
   ]
  },
  {
   "cell_type": "code",
   "execution_count": null,
   "id": "e8eac231-63e4-4fa5-8a3e-a2afdeacbca1",
   "metadata": {},
   "outputs": [],
   "source": []
  }
 ],
 "metadata": {
  "kernelspec": {
   "display_name": "Python 3 (ipykernel)",
   "language": "python",
   "name": "python3"
  },
  "language_info": {
   "codemirror_mode": {
    "name": "ipython",
    "version": 3
   },
   "file_extension": ".py",
   "mimetype": "text/x-python",
   "name": "python",
   "nbconvert_exporter": "python",
   "pygments_lexer": "ipython3",
   "version": "3.12.4"
  }
 },
 "nbformat": 4,
 "nbformat_minor": 5
}
